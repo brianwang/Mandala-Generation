{
 "cells": [
  {
   "cell_type": "code",
   "execution_count": 1,
   "metadata": {
    "hide_input": false
   },
   "outputs": [],
   "source": [
    "from fastai import *\n",
    "from fastai.vision import *"
   ]
  },
  {
   "cell_type": "code",
   "execution_count": null,
   "metadata": {},
   "outputs": [],
   "source": [
    "# ctrl+shift+j on google images page\n",
    "'''\n",
    "urls = Array.from(document.querySelectorAll('.rg_di .rg_meta')).map(el=>JSON.parse(el.textContent).ou);\n",
    "window.open('data:text/csv;charset=utf-8,' + escape(urls.join('\\n')));\n",
    "'''\n",
    "# copy this in javascript section"
   ]
  },
  {
   "cell_type": "code",
   "execution_count": 58,
   "metadata": {},
   "outputs": [],
   "source": [
    "folder = 'mandala_advanced'\n",
    "file = 'mandala_advanced.txt'"
   ]
  },
  {
   "cell_type": "code",
   "execution_count": 59,
   "metadata": {},
   "outputs": [],
   "source": [
    "path = Path('data')\n",
    "dest = path/folder\n",
    "dest.mkdir(parents=True, exist_ok=True)"
   ]
  },
  {
   "cell_type": "code",
   "execution_count": 60,
   "metadata": {},
   "outputs": [
    {
     "data": {
      "text/plain": [
       "[WindowsPath('data/mandala_advanced'),\n",
       " WindowsPath('data/mandala_advanced.txt'),\n",
       " WindowsPath('data/mandala_art'),\n",
       " WindowsPath('data/mandala_art.txt'),\n",
       " WindowsPath('data/mandala_beautiful'),\n",
       " WindowsPath('data/mandala_beautiful.txt'),\n",
       " WindowsPath('data/mandala_creative'),\n",
       " WindowsPath('data/mandala_creative.txt'),\n",
       " WindowsPath('data/mandala_geometric'),\n",
       " WindowsPath('data/mandala_geometric.txt'),\n",
       " WindowsPath('data/mandala_pinterest'),\n",
       " WindowsPath('data/mandala_pinterest.txt'),\n",
       " WindowsPath('data/mandala_printable'),\n",
       " WindowsPath('data/mandala_printable.txt'),\n",
       " WindowsPath('data/mandala_purple'),\n",
       " WindowsPath('data/mandala_purple.txt'),\n",
       " WindowsPath('data/mandala_simple'),\n",
       " WindowsPath('data/mandala_simple.txt'),\n",
       " WindowsPath('data/mandala_sketch'),\n",
       " WindowsPath('data/mandala_sketch.txt'),\n",
       " WindowsPath('data/mandala_zentangle'),\n",
       " WindowsPath('data/mandala_zentangle.txt')]"
      ]
     },
     "execution_count": 60,
     "metadata": {},
     "output_type": "execute_result"
    }
   ],
   "source": [
    "path.ls()"
   ]
  },
  {
   "cell_type": "code",
   "execution_count": 61,
   "metadata": {},
   "outputs": [],
   "source": [
    "download_images(path/file, dest, max_workers=0)"
   ]
  },
  {
   "cell_type": "code",
   "execution_count": null,
   "metadata": {},
   "outputs": [],
   "source": []
  }
 ],
 "metadata": {
  "kernelspec": {
   "display_name": "Python 3",
   "language": "python",
   "name": "python3"
  },
  "language_info": {
   "codemirror_mode": {
    "name": "ipython",
    "version": 3
   },
   "file_extension": ".py",
   "mimetype": "text/x-python",
   "name": "python",
   "nbconvert_exporter": "python",
   "pygments_lexer": "ipython3",
   "version": "3.6.4"
  }
 },
 "nbformat": 4,
 "nbformat_minor": 2
}
